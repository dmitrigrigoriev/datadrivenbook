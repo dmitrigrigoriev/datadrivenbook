{
 "cells": [
  {
   "cell_type": "code",
   "execution_count": 3,
   "id": "mobile-chess",
   "metadata": {},
   "outputs": [
    {
     "name": "stdout",
     "output_type": "stream",
     "text": [
      "\n",
      "  There is a binary version available but the source version is later:\n",
      "       binary source needs_compilation\n",
      "pillar  1.6.0  1.6.3             FALSE\n",
      "\n"
     ]
    },
    {
     "name": "stderr",
     "output_type": "stream",
     "text": [
      "installing the source package 'pillar'\n",
      "\n"
     ]
    }
   ],
   "source": [
    "# if package not installed yet\n",
    "# install.packages(\"RMThreshold\")"
   ]
  },
  {
   "cell_type": "code",
   "execution_count": 71,
   "id": "regional-fancy",
   "metadata": {},
   "outputs": [],
   "source": [
    "library(RMThreshold)\n",
    "library(MASS)"
   ]
  },
  {
   "cell_type": "code",
   "execution_count": 86,
   "id": "removed-daily",
   "metadata": {},
   "outputs": [
    {
     "name": "stdout",
     "output_type": "stream",
     "text": [
      "\n",
      "  17 x 1 matrix read.\n",
      "  This matrix contains 16 non-zero cells.\n",
      "\n",
      "  Gaussian noise with mean 0 and standard deviation 1 added.\n",
      "  The noise ranges from -0.7312 to 2.081 \n",
      "\n"
     ]
    }
   ],
   "source": [
    "f <- 3 # True slope\n",
    "a <- seq(from = -2, to = 2, by=0.25)\n",
    "\n",
    "A <- matrix(a, ncol=1, nrow=length(a))\n",
    "\n",
    "b <- add.Gaussian.noise(f*A, mean = 0, stddev = 1, symm = FALSE)\n",
    "\n",
    "res <- svd(A)\n",
    "\n",
    "S <- res$d #Diagonal matrix (Sigma) in our case just a number\n",
    "U <- res$u\n",
    "V <- res$v\n",
    "\n",
    "# after svd V which returned is not transponded. \n",
    "# In Python or Matlab svd returns V-transponded\n",
    "# If we would like to be like Python or Matlab we have to do following:\n",
    "# VT <- t(res$v)\n",
    "# x = t(VT) %*% ginv(diag(S)) %*% t(U) %*% b\n",
    "\n",
    "#variant 1\n",
    "xtilde <- V %*% ginv(S) %*% t(U) %*% b # Least-square fit\n",
    "\n",
    "#variant 2\n",
    "#xtilde2 <- ginv(A) %*% b  # Least-square fit\n"
   ]
  },
  {
   "cell_type": "code",
   "execution_count": 87,
   "id": "polished-marker",
   "metadata": {},
   "outputs": [
    {
     "data": {
      "image/png": "[encoded data removed]",
      "text/plain": [
       "plot without title"
      ]
     },
     "metadata": {},
     "output_type": "display_data"
    }
   ],
   "source": [
    "plot(x = a, y = b, col=\"black\")\n",
    "lines(x = a, y = t(f*A), col=\"red\")\n",
    "lines(x = a, y = t(as.numeric(xtilde)*A), col=\"blue\")\n",
    "grid()\n",
    "legend(\"topleft\", legend=c(\"Noisy Data\", \"True Line\", \"Regression Line\"), \n",
    "       col=c(\"black\", \"red\", \"blue\"), lwd=1, lty=c(NA,1,1), \n",
    "       pch=c(21,NA,NA))"
   ]
  }
 ],
 "metadata": {
  "kernelspec": {
   "display_name": "R",
   "language": "R",
   "name": "ir"
  },
  "language_info": {
   "codemirror_mode": "r",
   "file_extension": ".r",
   "mimetype": "text/x-r-source",
   "name": "R",
   "pygments_lexer": "r",
   "version": "4.1.1"
  }
 },
 "nbformat": 4,
 "nbformat_minor": 5
}
