{
 "cells": [
  {
   "cell_type": "code",
   "execution_count": 14,
   "id": "ed3a7317",
   "metadata": {},
   "outputs": [],
   "source": [
    "set.seed(1)\n",
    "\n",
    "T <- 100 # Sample size\n",
    "\n",
    "ts <- arima.sim(n = T, list(ar = c(0.2, 0.5)), sd = sqrt(2))\n",
    "\n",
    "logL <- rep(0, 3) # log likelihood vector\n",
    "aic <- rep(0, 3)  # AIC vector\n",
    "bic <- rep(0, 3)  # BIC vector\n",
    "\n",
    "for (i in 1:3) {\n",
    "    model <- arima(ts, order=c(i, 0, 0), method=\"ML\")\n",
    "    logL[i] <- model$loglik\n",
    "    aic[i] <- model$aic\n",
    "    bic[i] <- AIC(model, k = log(length(ts)))    \n",
    "}"
   ]
  },
  {
   "cell_type": "code",
   "execution_count": 15,
   "id": "44baa70d",
   "metadata": {},
   "outputs": [
    {
     "data": {
      "text/html": [
       "<style>\n",
       ".list-inline {list-style: none; margin:0; padding: 0}\n",
       ".list-inline>li {display: inline-block}\n",
       ".list-inline>li:not(:last-child)::after {content: \"\\00b7\"; padding: 0 .5ex}\n",
       "</style>\n",
       "<ol class=list-inline><li>-169.674033667725</li><li>-158.540950701828</li><li>-158.042781654222</li></ol>\n"
      ],
      "text/latex": [
       "\\begin{enumerate*}\n",
       "\\item -169.674033667725\n",
       "\\item -158.540950701828\n",
       "\\item -158.042781654222\n",
       "\\end{enumerate*}\n"
      ],
      "text/markdown": [
       "1. -169.674033667725\n",
       "2. -158.540950701828\n",
       "3. -158.042781654222\n",
       "\n",
       "\n"
      ],
      "text/plain": [
       "[1] -169.6740 -158.5410 -158.0428"
      ]
     },
     "metadata": {},
     "output_type": "display_data"
    }
   ],
   "source": [
    "logL"
   ]
  },
  {
   "cell_type": "code",
   "execution_count": 16,
   "id": "c7d6794e",
   "metadata": {},
   "outputs": [
    {
     "data": {
      "text/html": [
       "<style>\n",
       ".list-inline {list-style: none; margin:0; padding: 0}\n",
       ".list-inline>li {display: inline-block}\n",
       ".list-inline>li:not(:last-child)::after {content: \"\\00b7\"; padding: 0 .5ex}\n",
       "</style>\n",
       "<ol class=list-inline><li>345.34806733545</li><li>325.081901403656</li><li>326.085563308443</li></ol>\n"
      ],
      "text/latex": [
       "\\begin{enumerate*}\n",
       "\\item 345.34806733545\n",
       "\\item 325.081901403656\n",
       "\\item 326.085563308443\n",
       "\\end{enumerate*}\n"
      ],
      "text/markdown": [
       "1. 345.34806733545\n",
       "2. 325.081901403656\n",
       "3. 326.085563308443\n",
       "\n",
       "\n"
      ],
      "text/plain": [
       "[1] 345.3481 325.0819 326.0856"
      ]
     },
     "metadata": {},
     "output_type": "display_data"
    }
   ],
   "source": [
    "aic"
   ]
  },
  {
   "cell_type": "code",
   "execution_count": 17,
   "id": "d79a6405",
   "metadata": {},
   "outputs": [
    {
     "data": {
      "text/html": [
       "<style>\n",
       ".list-inline {list-style: none; margin:0; padding: 0}\n",
       ".list-inline>li {display: inline-block}\n",
       ".list-inline>li:not(:last-child)::after {content: \"\\00b7\"; padding: 0 .5ex}\n",
       "</style>\n",
       "<ol class=list-inline><li>353.163577893414</li><li>335.502582147609</li><li>339.111414238384</li></ol>\n"
      ],
      "text/latex": [
       "\\begin{enumerate*}\n",
       "\\item 353.163577893414\n",
       "\\item 335.502582147609\n",
       "\\item 339.111414238384\n",
       "\\end{enumerate*}\n"
      ],
      "text/markdown": [
       "1. 353.163577893414\n",
       "2. 335.502582147609\n",
       "3. 339.111414238384\n",
       "\n",
       "\n"
      ],
      "text/plain": [
       "[1] 353.1636 335.5026 339.1114"
      ]
     },
     "metadata": {},
     "output_type": "display_data"
    }
   ],
   "source": [
    "bic"
   ]
  }
 ],
 "metadata": {
  "kernelspec": {
   "display_name": "R",
   "language": "R",
   "name": "ir"
  },
  "language_info": {
   "codemirror_mode": "r",
   "file_extension": ".r",
   "mimetype": "text/x-r-source",
   "name": "R",
   "pygments_lexer": "r",
   "version": "4.1.1"
  }
 },
 "nbformat": 4,
 "nbformat_minor": 5
}
