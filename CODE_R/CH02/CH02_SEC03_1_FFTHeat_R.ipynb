{
 "cells": [
  {
   "cell_type": "code",
   "execution_count": 9,
   "id": "70f5654a",
   "metadata": {},
   "outputs": [],
   "source": [
    "library(pracma)\n",
    "library(deSolve)\n",
    "library(plotly)"
   ]
  },
  {
   "cell_type": "code",
   "execution_count": 10,
   "id": "cbcd77f0",
   "metadata": {},
   "outputs": [],
   "source": [
    "a <- 1    # Thermal diffusivity constant\n",
    "L <- 100  # Length of domain\n",
    "N <- 1000 # Number of discretization points\n",
    "dx <- L/N\n",
    "x <- seq(-L/2, L/2, dx) # Define x domain"
   ]
  },
  {
   "cell_type": "code",
   "execution_count": 11,
   "id": "a8d82cb7",
   "metadata": {},
   "outputs": [],
   "source": [
    "rhsHeat <- function(t, y, pars) {\n",
    "    kappa <- pars[[1]]\n",
    "    a <- pars[[2]]\n",
    "    uhat <- as.complex(y[1:N] + (1i) * y[(N+1):length(y)])\n",
    "    d_uhat <- -a^2 * (kappa^2) * uhat\n",
    "    d_uhat_ri <- c(Re(d_uhat), Im(d_uhat))\n",
    "    list(d_uhat_ri)\n",
    "}"
   ]
  },
  {
   "cell_type": "code",
   "execution_count": 12,
   "id": "dcfd6c28",
   "metadata": {},
   "outputs": [],
   "source": [
    "# basically function from np.fft.fftfreq\n",
    "# Define discrete wavenumbers\n",
    "kappa <- seq(-5, 5, length.out=(N+1))\n",
    "kappa <- ifftshift(kappa[1:(length(kappa)-1)])\n",
    "kappa <- kappa * 2 * pi\n",
    "\n",
    "\n",
    "# Initial condition\n",
    "u0 <- rep(0, length(x)-1)\n",
    "u0[as.integer((L/2 - L/10)/dx):as.integer((L/2 + L/10)/dx)] <- 1\n",
    "\n",
    "fft_ <- fft(u0) #Fourier transform of initial condition\n",
    "\n",
    "# ode function doesn't play well with complex numbers, so we recast \n",
    "# the state u0hat from an N-element complex vector to a 2N-element real vector\n",
    "u0hat_ri <- c(Re(fft_), Im(fft_))\n",
    "\n",
    "# Simulate in Fourier frequency domain\n",
    "dt <- 0.1\n",
    "t <- seq(0,10,dt)\n",
    "\n",
    "pars <- list()\n",
    "pars[[1]] <- kappa\n",
    "pars[[2]] <- a\n",
    "\n",
    "uhat_ri <- ode(y = u0hat_ri, times = t, func = rhsHeat, parms = pars, method=\"ode45\")\n",
    "\n",
    "uhat <- matrix(rep(0, length(t)*N), nrow=length(t), ncol=N)\n",
    "\n",
    "for (i in 2:length(t)) {\n",
    "    uhat[i-1,] <- as.complex(uhat_ri[i,2:(N+1)] + (1i) * uhat_ri[(N+2):(2*N+1)])\n",
    "}\n",
    "\n",
    "u <- matrix(rep(0, length(t)*N), nrow=length(t), ncol=N)\n",
    "\n",
    "for (i in 2:length(t)) {\n",
    "    uhat[i-1,] <- as.complex(uhat_ri[i,2:(N+1)] + (1i) * uhat_ri[(N+2):(2*N+1)])\n",
    "    u[i-1,] <- fft(uhat[i-1,], inverse=TRUE)/length(uhat[i-1,])\n",
    "}\n",
    "\n",
    "u <- Re(u)\n"
   ]
  }
 ],
 "metadata": {
  "kernelspec": {
   "display_name": "R",
   "language": "R",
   "name": "ir"
  },
  "language_info": {
   "codemirror_mode": "r",
   "file_extension": ".r",
   "mimetype": "text/x-r-source",
   "name": "R",
   "pygments_lexer": "r",
   "version": "4.1.1"
  }
 },
 "nbformat": 4,
 "nbformat_minor": 5
}
